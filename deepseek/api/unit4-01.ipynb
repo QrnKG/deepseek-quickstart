{
 "cells": [
  {
   "cell_type": "markdown",
   "id": "fe3c12f3",
   "metadata": {},
   "source": [
    "# 民法RAG"
   ]
  },
  {
   "cell_type": "markdown",
   "id": "5a993f2d",
   "metadata": {},
   "source": [
    "获取环境变量"
   ]
  },
  {
   "cell_type": "code",
   "execution_count": null,
   "id": "18ef0d65",
   "metadata": {},
   "outputs": [],
   "source": [
    "import os\n",
    "# 获取环境变量\n",
    "api_key = os.getenv('API_KEY')"
   ]
  }
 ],
 "metadata": {
  "kernelspec": {
   "display_name": "Python 3 (ipykernel)",
   "language": "python",
   "name": "python3"
  },
  "language_info": {
   "codemirror_mode": {
    "name": "ipython",
    "version": 3
   },
   "file_extension": ".py",
   "mimetype": "text/x-python",
   "name": "python",
   "nbconvert_exporter": "python",
   "pygments_lexer": "ipython3",
   "version": "3.13.4"
  }
 },
 "nbformat": 4,
 "nbformat_minor": 5
}
