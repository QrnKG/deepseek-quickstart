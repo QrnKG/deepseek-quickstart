{
 "cells": [
  {
   "cell_type": "markdown",
   "id": "fe3c12f3",
   "metadata": {},
   "source": [
    "# 民法RAG"
   ]
  },
  {
   "cell_type": "markdown",
   "id": "5a993f2d",
   "metadata": {},
   "source": [
    "### 获取环境变量"
   ]
  },
  {
   "cell_type": "code",
   "execution_count": null,
   "id": "18ef0d65",
   "metadata": {},
   "outputs": [],
   "source": [
    "import os\n",
    "# 获取环境变量\n",
    "api_key = os.getenv('API_KEY')"
   ]
  },
  {
   "cell_type": "markdown",
   "id": "3cdb9e39",
   "metadata": {},
   "source": [
    "### 准备数据"
   ]
  },
  {
   "cell_type": "code",
   "execution_count": null,
   "id": "1a20b8f8",
   "metadata": {},
   "outputs": [],
   "source": [
    "from glob import glob\n",
    "\n",
    "text_lines = []\n",
    "\n",
    "for file_path in glob(\"*.md\", recursive=True):\n",
    "    with open(file_path, \"r\") as file:\n",
    "        file_text = file.read()\n",
    "\n",
    "    text_lines += file_text.split(\"# \")"
   ]
  },
  {
   "cell_type": "code",
   "execution_count": null,
   "id": "855e81aa",
   "metadata": {},
   "outputs": [],
   "source": [
    "# 打印数据\n",
    "len(text_lines)"
   ]
  },
  {
   "cell_type": "code",
   "execution_count": null,
   "id": "82a9b496",
   "metadata": {},
   "outputs": [],
   "source": [
    "from openai import OpenAI\n",
    "\n",
    "deepseek_client = OpenAI(\n",
    "    api_key=api_key,\n",
    "    base_url=\"https://api.deepseek.com/v1\",  # DeepSeek API 的基地址\n",
    ")"
   ]
  },
  {
   "cell_type": "markdown",
   "id": "614672aa",
   "metadata": {},
   "source": [
    "定义 embedding模型，使用milvus_model 来生成文本嵌入。使用DefaultEmeddingFunction"
   ]
  },
  {
   "cell_type": "code",
   "execution_count": null,
   "id": "5a31b257",
   "metadata": {},
   "outputs": [],
   "source": [
    "from pymilvus import model as milvus_model\n",
    "\n",
    "embedding_model = milvus_model.DefaultEmbeddingFunction()"
   ]
  },
  {
   "cell_type": "code",
   "execution_count": null,
   "id": "3e024cc7",
   "metadata": {},
   "outputs": [],
   "source": [
    "# 测试\n",
    "test_embedding = embedding_model('This is a test sentence.')[0]\n",
    "# 打印测试结果\n",
    "embedding_dim = len(test_embedding)\n",
    "print(embedding_dim)\n",
    "print(test_embedding[:10]) # 生成10个"
   ]
  },
  {
   "cell_type": "markdown",
   "id": "6e6681f6",
   "metadata": {},
   "source": [
    "### 将数据加载到Milvus\n"
   ]
  },
  {
   "cell_type": "code",
   "execution_count": null,
   "id": "b1ef3d9d",
   "metadata": {},
   "outputs": [],
   "source": [
    "# 创建Collection\n",
    "from pymilvus import MilvusClinet\n",
    "\n",
    "milvus_client = MilvusClinet(uri='./milvus_mfd.db')# 创建民法典向量数据库\n",
    "collection_name = \"law_collection\"\n",
    "\n",
    "\n",
    "# 检测 数据库是否存在，存在则删除\n",
    "if milvus_client.has_collection(collection_name):\n",
    "    milvus_client.drop_collection(collection_name)\n",
    "# 创建Collection\n",
    "milvus_client.create_collection(\n",
    "    collection_name=collection_name,\n",
    "    dimension = embedding_dim,\n",
    "    metric_type =\"IP\", # 内聚距离\n",
    "    consistency_level = 'Strong' # 一致性级别\n",
    "),"
   ]
  },
  {
   "cell_type": "markdown",
   "id": "0296a5e5",
   "metadata": {},
   "source": [
    "### 插入数据"
   ]
  },
  {
   "cell_type": "code",
   "execution_count": null,
   "id": "3e5cc96a",
   "metadata": {},
   "outputs": [],
   "source": [
    "from tqdm import tqdm\n",
    "\n",
    "data = []\n",
    "\n",
    "doc_embeddings = embedding_model.encode_documents(text_lines)\n",
    "\n",
    "for i, line in enumerate(tqdm(text_lines, desc=\"Creating embeddings\")):\n",
    "    data.append({\"id\": i, \"vector\": doc_embeddings[i], \"text\": line})\n",
    "\n",
    "milvus_client.insert(collection_name=collection_name, data=data)"
   ]
  },
  {
   "cell_type": "markdown",
   "id": "189b4973",
   "metadata": {},
   "source": [
    "### 构建RAG"
   ]
  },
  {
   "cell_type": "code",
   "execution_count": null,
   "id": "4ce9a80e",
   "metadata": {},
   "outputs": [],
   "source": [
    "# 查询的问题\n",
    "question = '债务人不履行到期债务怎么办？'\n",
    "\n",
    "# 查询问题 返回3个结果\n",
    "search_res = milvus_client.search(\n",
    "    collection_name=collection_name,\n",
    "    data=embedding_model.encode_queries(\n",
    "        [question]\n",
    "    ),  # 将问题转换为嵌入向量\n",
    "    limit=3,  # 返回前3个结果\n",
    "    search_params={\"metric_type\": \"IP\", \"params\": {}},  # 内积距离\n",
    "    output_fields=[\"text\"],  # 返回 text 字段\n",
    ")\n",
    "\n",
    "# 输出结果\n",
    "import json\n",
    "\n",
    "retrieved_lines_with_distances = [\n",
    "    (res[\"entity\"][\"text\"], res[\"distance\"]) for res in search_res[0]\n",
    "]\n",
    "print(json.dumps(retrieved_lines_with_distances, indent=4))\n"
   ]
  },
  {
   "cell_type": "markdown",
   "id": "80e8f2fb",
   "metadata": {},
   "source": [
    "### 使用LLM获取RAG响应\n"
   ]
  },
  {
   "cell_type": "code",
   "execution_count": null,
   "id": "2dbbe404",
   "metadata": {},
   "outputs": [],
   "source": [
    "context = \"\\n\".join(\n",
    "    [line_with_distance[0] for line_with_distance in retrieved_lines_with_distances]\n",
    ")\n",
    "\n",
    "# 打印出内容\n",
    "print(context)"
   ]
  },
  {
   "cell_type": "code",
   "execution_count": null,
   "id": "fc9822da",
   "metadata": {},
   "outputs": [],
   "source": [
    "# 创建询问格式\n",
    "SYSTEM_PROMPT = \"\"\"你是一个法律助手。你能够从提供的上下文段落片段中找到问题的答案。\"\"\"\n",
    "\n",
    "USER_PROMPT = f\"\"\"\n",
    "请使用以下用 <context> 标签括起来的信息片段来回答用 <question> 标签括起来的问题。\n",
    "<context>\n",
    "{context}\n",
    "</context>\n",
    "<question>\n",
    "{question}\n",
    "</question>\n",
    "\"\"\"\n",
    "\n",
    "# 使用DS提供给 ds-chat 模型根据提示生成响应\n",
    "response = deepseek_client.chat.completions.create(\n",
    "    model=\"deepseek-chat\",\n",
    "    messages=[\n",
    "        {\"role\": \"system\", \"content\": SYSTEM_PROMPT},\n",
    "        {\"role\": \"user\", \"content\": USER_PROMPT},\n",
    "    ],\n",
    ")\n",
    "print(response.choices[0].message.content)"
   ]
  }
 ],
 "metadata": {
  "kernelspec": {
   "display_name": "Python 3 (ipykernel)",
   "language": "python",
   "name": "python3"
  },
  "language_info": {
   "codemirror_mode": {
    "name": "ipython",
    "version": 3
   },
   "file_extension": ".py",
   "mimetype": "text/x-python",
   "name": "python",
   "nbconvert_exporter": "python",
   "pygments_lexer": "ipython3",
   "version": "3.13.4"
  }
 },
 "nbformat": 4,
 "nbformat_minor": 5
}
